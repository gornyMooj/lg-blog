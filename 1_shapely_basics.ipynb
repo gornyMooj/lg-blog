{
 "cells": [
  {
   "cell_type": "code",
   "execution_count": 1,
   "id": "a4613e06",
   "metadata": {},
   "outputs": [],
   "source": [
    "import matplotlib.pyplot as plt"
   ]
  },
  {
   "cell_type": "markdown",
   "id": "996c0e33",
   "metadata": {},
   "source": [
    "### Point"
   ]
  },
  {
   "cell_type": "code",
   "execution_count": 2,
   "id": "a71493d6",
   "metadata": {},
   "outputs": [],
   "source": [
    "from shapely.geometry import Point"
   ]
  },
  {
   "cell_type": "code",
   "execution_count": 3,
   "id": "e4db3594",
   "metadata": {},
   "outputs": [],
   "source": [
    "# We have two points x and y in a cartesian coordinate system in geoggraphical lattitude and longitude\n",
    "# lat,lon\n",
    "# x, y\n",
    "\n",
    "lat,lon = 30, 60"
   ]
  },
  {
   "cell_type": "code",
   "execution_count": 4,
   "id": "4674aee3",
   "metadata": {},
   "outputs": [
    {
     "data": {
      "image/png": "[encoded data removed]",
      "text/plain": [
       "<Figure size 432x288 with 1 Axes>"
      ]
     },
     "metadata": {
      "needs_background": "light"
     },
     "output_type": "display_data"
    }
   ],
   "source": [
    "# We can display it on the scatter plot with Matplotlib\n",
    "x_coordinates = [lat]\n",
    "y_coordinates = [lon]\n",
    "\n",
    "plt.scatter(x_coordinates, y_coordinates)\n",
    "plt.ylim(-90,90)\n",
    "plt.xlim(-180,180)\n",
    "plt.show()"
   ]
  },
  {
   "cell_type": "code",
   "execution_count": 5,
   "id": "d41ab5b0",
   "metadata": {},
   "outputs": [],
   "source": [
    "# Creating a Point object using shapely's Point CLass\n",
    "point_1 = Point(lat,lon)"
   ]
  },
  {
   "cell_type": "code",
   "execution_count": 6,
   "id": "bb5495c6",
   "metadata": {},
   "outputs": [
    {
     "name": "stdout",
     "output_type": "stream",
     "text": [
      "X and Y of the Point Class:  30.0 60.0\n",
      "Coordinates of Point CLass [(30.0, 60.0)]\n"
     ]
    }
   ],
   "source": [
    "# Accessing coordinate parameters \n",
    "print(\"X and Y of the Point Class: \",point_1.x, point_1.y)\n",
    "print(\"Coordinates of Point CLass\",point_1.coords[:])"
   ]
  },
  {
   "cell_type": "code",
   "execution_count": 7,
   "id": "d6ce06ae",
   "metadata": {},
   "outputs": [],
   "source": [
    "# Creating an additional point\n",
    "point_2 = Point(120, 50)"
   ]
  },
  {
   "cell_type": "code",
   "execution_count": 8,
   "id": "6dd0e287",
   "metadata": {},
   "outputs": [
    {
     "data": {
      "image/png": "[encoded data removed]",
      "text/plain": [
       "<Figure size 432x288 with 1 Axes>"
      ]
     },
     "metadata": {
      "needs_background": "light"
     },
     "output_type": "display_data"
    }
   ],
   "source": [
    "# adding the new point to ower coordinates\n",
    "x_coordinates.append(point_2.x)\n",
    "y_coordinates.append(point_2.y)\n",
    "\n",
    "plt.scatter(x_coordinates, y_coordinates, color=['blue', 'pink'])\n",
    "plt.ylim(-90,90)\n",
    "plt.xlim(-180,180)\n",
    "plt.show()"
   ]
  },
  {
   "cell_type": "code",
   "execution_count": 9,
   "id": "d0672055",
   "metadata": {},
   "outputs": [
    {
     "data": {
      "text/plain": [
       "90.55385138137417"
      ]
     },
     "execution_count": 9,
     "metadata": {},
     "output_type": "execute_result"
    }
   ],
   "source": [
    "# Distance between those points \n",
    "point_1.distance(point_2)"
   ]
  },
  {
   "cell_type": "markdown",
   "id": "aca6d0e0",
   "metadata": {},
   "source": [
    "### Collections of Points"
   ]
  },
  {
   "cell_type": "code",
   "execution_count": 10,
   "id": "6a0c03f6",
   "metadata": {},
   "outputs": [],
   "source": [
    "from shapely.geometry import MultiPoint"
   ]
  },
  {
   "cell_type": "code",
   "execution_count": 11,
   "id": "9526e121",
   "metadata": {},
   "outputs": [],
   "source": [
    "# Having two points we can now create a multipoint object \n",
    "points = MultiPoint([point_1, point_2])"
   ]
  },
  {
   "cell_type": "code",
   "execution_count": 12,
   "id": "eb9aa118",
   "metadata": {},
   "outputs": [
    {
     "data": {
      "text/plain": [
       "2"
      ]
     },
     "execution_count": 12,
     "metadata": {},
     "output_type": "execute_result"
    }
   ],
   "source": [
    "# Checking number of points in the collection using GEOMS\n",
    "len(points.geoms)"
   ]
  },
  {
   "cell_type": "code",
   "execution_count": 13,
   "id": "25ec495a",
   "metadata": {},
   "outputs": [
    {
     "data": {
      "text/plain": [
       "2"
      ]
     },
     "execution_count": 13,
     "metadata": {},
     "output_type": "execute_result"
    }
   ],
   "source": [
    "len(points)"
   ]
  },
  {
   "cell_type": "code",
   "execution_count": 14,
   "id": "d1f62c8f",
   "metadata": {},
   "outputs": [
    {
     "name": "stdout",
     "output_type": "stream",
     "text": [
      "30.0 60.0 or [(30.0, 60.0)]\n",
      "120.0 50.0 or [(120.0, 50.0)]\n"
     ]
    }
   ],
   "source": [
    "# Checking coordinates of the points in the collection\n",
    "for point in points:\n",
    "    print(point.x, point.y, 'or', point.coords[:])"
   ]
  },
  {
   "cell_type": "markdown",
   "id": "2822c4bd",
   "metadata": {},
   "source": [
    "### Polygon"
   ]
  },
  {
   "cell_type": "code",
   "execution_count": 15,
   "id": "5dbc4153",
   "metadata": {},
   "outputs": [],
   "source": [
    "from shapely.geometry import Polygon"
   ]
  },
  {
   "cell_type": "code",
   "execution_count": 16,
   "id": "4940df85",
   "metadata": {},
   "outputs": [],
   "source": [
    "# creatin a new poligon\n",
    "coordinates = [[1, 1], [2, 1], [2, 2], [1, 2], [1, 1]]\n",
    "polygon = Polygon(coordinates)"
   ]
  },
  {
   "cell_type": "code",
   "execution_count": 17,
   "id": "bf31beec",
   "metadata": {},
   "outputs": [
    {
     "data": {
      "image/png": "[encoded data removed]",
      "text/plain": [
       "<Figure size 432x288 with 1 Axes>"
      ]
     },
     "metadata": {
      "needs_background": "light"
     },
     "output_type": "display_data"
    }
   ],
   "source": [
    "# displaying the polygon\n",
    "plt.plot([x[0] for x in coordinates], [y[1] for y in coordinates], color = 'green', linewidth=3)\n",
    "plt.ylim(-4,4)\n",
    "plt.xlim(-4,4)\n",
    "plt.grid()\n",
    "plt.show()"
   ]
  },
  {
   "cell_type": "code",
   "execution_count": 18,
   "id": "b21bd7e1",
   "metadata": {},
   "outputs": [
    {
     "data": {
      "image/png": "[encoded data removed]",
      "text/plain": [
       "<Figure size 432x288 with 1 Axes>"
      ]
     },
     "metadata": {
      "needs_background": "light"
     },
     "output_type": "display_data"
    }
   ],
   "source": [
    "# displaying a polygon with matplotlib.patches\n",
    "import numpy as np\n",
    "from matplotlib.patches import Polygon\n",
    "\n",
    "plt_polygon = Polygon(coordinates, facecolor = 'green')\n",
    "\n",
    "fig,ax = plt.subplots()\n",
    "\n",
    "ax.add_patch(plt_polygon)\n",
    "plt.ylim(-4,4)\n",
    "plt.xlim(-4,4)\n",
    "plt.grid()\n",
    "plt.show()"
   ]
  },
  {
   "cell_type": "code",
   "execution_count": 19,
   "id": "d4846d5e",
   "metadata": {},
   "outputs": [
    {
     "name": "stdout",
     "output_type": "stream",
     "text": [
      "POINT (1.5 1.5)\n",
      "type <class 'shapely.geometry.point.Point'>\n",
      "Accessing centroind coordinates:  [(1.5, 1.5)]\n"
     ]
    }
   ],
   "source": [
    "# Centroid\n",
    "print( polygon.centroid )\n",
    "print('type', type(polygon.centroid))\n",
    "print( 'Accessing centroind coordinates: ', polygon.centroid.coords[:] )\n"
   ]
  },
  {
   "cell_type": "code",
   "execution_count": 20,
   "id": "e8a5546c",
   "metadata": {},
   "outputs": [
    {
     "data": {
      "text/plain": [
       "1.0"
      ]
     },
     "execution_count": 20,
     "metadata": {},
     "output_type": "execute_result"
    }
   ],
   "source": [
    "# area\n",
    "polygon.area"
   ]
  },
  {
   "cell_type": "code",
   "execution_count": 21,
   "id": "c18448d1",
   "metadata": {
    "scrolled": false
   },
   "outputs": [
    {
     "data": {
      "text/plain": [
       "(1.0, 1.0, 2.0, 2.0)"
      ]
     },
     "execution_count": 21,
     "metadata": {},
     "output_type": "execute_result"
    }
   ],
   "source": [
    "# bounds - Returns a (minx, miny, maxx, maxy) tuple (float values) that bounds the object\n",
    "polygon.bounds"
   ]
  },
  {
   "cell_type": "markdown",
   "id": "812ab05d",
   "metadata": {},
   "source": [
    "**BUFFER**"
   ]
  },
  {
   "cell_type": "code",
   "execution_count": 22,
   "id": "7981b332",
   "metadata": {},
   "outputs": [
    {
     "name": "stdout",
     "output_type": "stream",
     "text": [
      "Buffor coordinates:  [(-2.0, 1.0), (-2.0, 2.0), (-1.9855541800165906, 2.2940514209886813), (-1.9423558412096913, 2.5852709660483844), (-1.8708210071966267, 2.870854031763387), (-1.77163859753386, 3.1480502970952697), (-1.6457637930450648, 3.4141902104779933), (-1.494408836907636, 3.6667106990588065), (-1.319031360088211, 3.9031798524909362), (-1.1213203435596424, 4.121320343559643), (-0.9031798524909362, 4.3190313600882115), (-0.6667106990588059, 4.4944088369076365), (-0.4141902104779931, 4.645763793045065), (-0.1480502970952693, 4.77163859753386), (0.1291459682366135, 4.870821007196627), (0.4147290339516154, 4.942355841209691), (0.705948579011318, 4.985554180016591), (1.0, 5.0), (2.0, 5.0), (2.294051420988681, 4.985554180016591), (2.5852709660483844, 4.942355841209691), (2.870854031763387, 4.870821007196627), (3.1480502970952697, 4.77163859753386), (3.4141902104779933, 4.645763793045065), (3.666710699058807, 4.494408836907636), (3.9031798524909362, 4.319031360088211), (4.121320343559643, 4.121320343559643), (4.319031360088211, 3.9031798524909362), (4.494408836907636, 3.6667106990588065), (4.645763793045065, 3.414190210477993), (4.77163859753386, 3.1480502970952693), (4.870821007196627, 2.870854031763387), (4.942355841209691, 2.585270966048385), (4.985554180016591, 2.2940514209886818), (5.0, 2.0), (5.0, 1.0), (4.985554180016591, 0.7059485790113191), (4.942355841209691, 0.41472903395161587), (4.870821007196627, 0.12914596823661317), (4.77163859753386, -0.1480502970952693), (4.645763793045065, -0.4141902104779933), (4.494408836907636, -0.6667106990588065), (4.319031360088211, -0.9031798524909365), (4.121320343559643, -1.1213203435596428), (3.9031798524909362, -1.3190313600882106), (3.666710699058807, -1.4944088369076356), (3.4141902104779933, -1.6457637930450648), (3.1480502970952697, -1.77163859753386), (2.870854031763387, -1.8708210071966267), (2.585270966048385, -1.9423558412096913), (2.294051420988682, -1.9855541800165906), (2.0, -2.0), (1.0, -2.0), (0.7059485790113207, -1.9855541800165906), (0.41472903395161864, -1.9423558412096922), (0.12914596823661717, -1.8708210071966276), (-0.14805029709526418, -1.7716385975338627), (-0.4141902104779871, -1.6457637930450684), (-0.6667106990588003, -1.49440883690764), (-0.9031798524909298, -1.3190313600882164), (-1.1213203435596357, -1.1213203435596495), (-1.319031360088204, -0.9031798524909447), (-1.4944088369076294, -0.6667106990588163), (-1.645763793045059, -0.414190210478004), (-1.7716385975338547, -0.14805029709528306), (-1.8708210071966218, 0.12914596823659752), (-1.9423558412096877, 0.41472903395159855), (-1.9855541800165888, 0.7059485790113003), (-2.0, 1.0)]\n"
     ]
    }
   ],
   "source": [
    "# buffer\n",
    "# https://shapely.readthedocs.io/en/stable/manual.html#object.buffer\n",
    "polygon_2 = polygon.buffer(3)\n",
    "polygon_2_coordinates = list(zip(*polygon_2.exterior.coords.xy))\n",
    "print(\"Buffor coordinates: \", polygon_2_coordinates)"
   ]
  },
  {
   "cell_type": "code",
   "execution_count": 23,
   "id": "1024c9f0",
   "metadata": {},
   "outputs": [
    {
     "data": {
      "image/png": "[encoded data removed]",
      "text/plain": [
       "<Figure size 432x288 with 1 Axes>"
      ]
     },
     "metadata": {
      "needs_background": "light"
     },
     "output_type": "display_data"
    }
   ],
   "source": [
    "plt_polygon = Polygon(coordinates, facecolor = 'green')\n",
    "plt_polygon2 = Polygon(polygon_2_coordinates, facecolor = 'pink')\n",
    "\n",
    "fig,ax = plt.subplots()\n",
    "\n",
    "ax.add_patch(plt_polygon2)\n",
    "ax.add_patch(plt_polygon)\n",
    "\n",
    "plt.ylim(-4,10)\n",
    "plt.xlim(-4,10)\n",
    "plt.grid()\n",
    "plt.show()\n"
   ]
  },
  {
   "cell_type": "code",
   "execution_count": 24,
   "id": "0ee2680f",
   "metadata": {},
   "outputs": [],
   "source": [
    "# The above buffer is complex due to default settings, perticulary - resolution. \n",
    "# The default (resolution of 16) buffer of a point is a polygonal patch with 99.8% of \n",
    "# the area of the circular disk it approximates.\n",
    "\n",
    "# Here is a method how you can create a squere buffer around the 'polygon'"
   ]
  },
  {
   "cell_type": "code",
   "execution_count": 25,
   "id": "afcfc054",
   "metadata": {},
   "outputs": [
    {
     "name": "stdout",
     "output_type": "stream",
     "text": [
      "Square buffor coordinates:  [(-3.0, -3.0), (-3.0, 6.0), (6.0, 6.0), (6.0, -3.0), (-3.0, -3.0)]\n"
     ]
    }
   ],
   "source": [
    "# SQUERE CORNERS BUFFER\n",
    "# cap_style=3 \n",
    "# join_style=2\n",
    "polygon_3 = polygon.buffer(4, cap_style=3, join_style=2)\n",
    "polygon_3_coordinates = list(zip(*polygon_3.exterior.coords.xy))\n",
    "print(\"Square buffor coordinates: \", polygon_3_coordinates)"
   ]
  },
  {
   "cell_type": "code",
   "execution_count": 26,
   "id": "479ad56e",
   "metadata": {},
   "outputs": [
    {
     "data": {
      "image/png": "[encoded data removed]",
      "text/plain": [
       "<Figure size 432x288 with 1 Axes>"
      ]
     },
     "metadata": {
      "needs_background": "light"
     },
     "output_type": "display_data"
    }
   ],
   "source": [
    "plt_polygon = Polygon(coordinates, facecolor = 'green')\n",
    "plt_polygon2 = Polygon(polygon_2_coordinates, facecolor = 'pink')\n",
    "plt_polygon3 = Polygon(polygon_3_coordinates, facecolor = 'blue')\n",
    "\n",
    "fig,ax = plt.subplots()\n",
    "\n",
    "ax.add_patch(plt_polygon3)\n",
    "ax.add_patch(plt_polygon2)\n",
    "ax.add_patch(plt_polygon)\n",
    "\n",
    "plt.ylim(-4,10)\n",
    "plt.xlim(-4,10)\n",
    "plt.grid()\n",
    "plt.show()"
   ]
  },
  {
   "cell_type": "markdown",
   "id": "cc442d38",
   "metadata": {},
   "source": [
    "### Affine Transformations"
   ]
  },
  {
   "cell_type": "code",
   "execution_count": 27,
   "id": "f63f9ce0",
   "metadata": {},
   "outputs": [],
   "source": [
    "# https://shapely.readthedocs.io/en/stable/manual.html#affine-transformations\n",
    "\n",
    "from shapely import affinity\n"
   ]
  },
  {
   "cell_type": "markdown",
   "id": "3dd3c193",
   "metadata": {},
   "source": [
    "**ROTATE**"
   ]
  },
  {
   "cell_type": "code",
   "execution_count": 28,
   "id": "619e061b",
   "metadata": {},
   "outputs": [],
   "source": [
    "# ORGIN CENTROID\n",
    "rotated_polygon = affinity.rotate(polygon, 45, origin='centroid')"
   ]
  },
  {
   "cell_type": "code",
   "execution_count": 29,
   "id": "743165c5",
   "metadata": {},
   "outputs": [
    {
     "name": "stdout",
     "output_type": "stream",
     "text": [
      "Polygon coordinates:  [(1.0, 1.0), (2.0, 1.0), (2.0, 2.0), (1.0, 2.0), (1.0, 1.0)]\n",
      "Rotated coordinates:  [(1.5, 0.7928932188134523), (2.2071067811865475, 1.5), (1.5, 2.2071067811865475), (0.7928932188134524, 1.5), (1.5, 0.7928932188134523)]\n"
     ]
    }
   ],
   "source": [
    "print('Polygon coordinates: ', list(zip(*polygon.exterior.coords.xy)))\n",
    "print('Rotated coordinates: ', list(zip(*rotated_polygon.exterior.coords.xy)))"
   ]
  },
  {
   "cell_type": "code",
   "execution_count": 30,
   "id": "0c2128c9",
   "metadata": {},
   "outputs": [
    {
     "data": {
      "image/png": "[encoded data removed]",
      "text/plain": [
       "<Figure size 432x288 with 1 Axes>"
      ]
     },
     "metadata": {
      "needs_background": "light"
     },
     "output_type": "display_data"
    }
   ],
   "source": [
    "plt_polygon = Polygon(coordinates, facecolor = 'green')\n",
    "plt_rotated_polygon = Polygon(list(zip(*rotated_polygon.exterior.coords.xy)), facecolor = 'brown')\n",
    "\n",
    "fig,ax = plt.subplots()\n",
    "\n",
    "ax.add_patch(plt_polygon)\n",
    "ax.add_patch(plt_rotated_polygon)\n",
    "\n",
    "plt.ylim(0,3)\n",
    "plt.xlim(0,3)\n",
    "\n",
    "plt.show()"
   ]
  },
  {
   "cell_type": "code",
   "execution_count": 31,
   "id": "2cb06e49",
   "metadata": {},
   "outputs": [
    {
     "data": {
      "text/plain": [
       "(1.0, 1.0)"
      ]
     },
     "execution_count": 31,
     "metadata": {},
     "output_type": "execute_result"
    }
   ],
   "source": [
    "# ORGIN CORNER 1 from the coordinates\n",
    "corner_coordinates = list(zip(*polygon.exterior.coords.xy))[0]\n",
    "rotated_polygon = affinity.rotate(polygon, 70, origin=corner_coordinates)\n",
    "corner_coordinates"
   ]
  },
  {
   "cell_type": "code",
   "execution_count": 32,
   "id": "a76e9d95",
   "metadata": {},
   "outputs": [
    {
     "data": {
      "image/png": "[encoded data removed]",
      "text/plain": [
       "<Figure size 432x288 with 1 Axes>"
      ]
     },
     "metadata": {
      "needs_background": "light"
     },
     "output_type": "display_data"
    }
   ],
   "source": [
    "plt_polygon = Polygon(coordinates, facecolor = 'green')\n",
    "plt_rotated_polygon = Polygon(list(zip(*rotated_polygon.exterior.coords.xy)), facecolor = 'brown')\n",
    "\n",
    "fig,ax = plt.subplots()\n",
    "\n",
    "ax.add_patch(plt_polygon)\n",
    "ax.add_patch(plt_rotated_polygon)\n",
    "\n",
    "plt.ylim(0,3)\n",
    "plt.xlim(0,3)\n",
    "\n",
    "plt.show()"
   ]
  },
  {
   "cell_type": "markdown",
   "id": "c9d4ff51",
   "metadata": {},
   "source": [
    "**SCALE**"
   ]
  },
  {
   "cell_type": "code",
   "execution_count": 33,
   "id": "c2932212",
   "metadata": {},
   "outputs": [
    {
     "data": {
      "text/plain": [
       "[(-3.5, -3.5), (6.5, -3.5), (6.5, 6.5), (-3.5, 6.5), (-3.5, -3.5)]"
      ]
     },
     "execution_count": 33,
     "metadata": {},
     "output_type": "execute_result"
    }
   ],
   "source": [
    "poly = affinity.scale(polygon, xfact=10, yfact=10, origin='center' )\n",
    "list(zip(*poly.exterior.coords.xy))"
   ]
  },
  {
   "cell_type": "code",
   "execution_count": 34,
   "id": "f2694f94",
   "metadata": {},
   "outputs": [
    {
     "data": {
      "image/png": "[encoded data removed]",
      "text/plain": [
       "<Figure size 432x288 with 1 Axes>"
      ]
     },
     "metadata": {
      "needs_background": "light"
     },
     "output_type": "display_data"
    }
   ],
   "source": [
    "plt_polygon = Polygon(list(zip(*polygon.exterior.coords.xy)), facecolor = 'green')\n",
    "plt_poly = Polygon(list(zip(*poly.exterior.coords.xy)), facecolor = 'brown')\n",
    "\n",
    "fig,ax = plt.subplots()\n",
    "\n",
    "ax.add_patch(plt_poly)\n",
    "ax.add_patch(plt_polygon)\n",
    "\n",
    "plt.ylim(-10,10)\n",
    "plt.xlim(-10,10)\n",
    "\n",
    "plt.show()"
   ]
  },
  {
   "cell_type": "markdown",
   "id": "58cc7b5d",
   "metadata": {},
   "source": [
    "**Transform**"
   ]
  },
  {
   "cell_type": "code",
   "execution_count": 35,
   "id": "fee4ada0",
   "metadata": {},
   "outputs": [],
   "source": [
    "x_coordinates = 16.652003368254142\n",
    "y_coordinates = 50.72822814023881"
   ]
  },
  {
   "cell_type": "code",
   "execution_count": 36,
   "id": "aeca1b65",
   "metadata": {},
   "outputs": [],
   "source": [
    "\n",
    "# Definition of azimuthal equidistant projection\n",
    "# : a map projection of the surface of the earth so centered at any given point that a straight line radiating \n",
    "# from the center to any other point represents the shortest distance and can be measured to scale\n",
    "\n",
    "# SOURCE: https://www.merriam-webster.com/dictionary/azimuthal%20equidistant%20projection\n"
   ]
  },
  {
   "cell_type": "code",
   "execution_count": 37,
   "id": "3e25c4a5",
   "metadata": {},
   "outputs": [
    {
     "name": "stdout",
     "output_type": "stream",
     "text": [
      "Poly area:  4.0\n",
      "Poly area:  400.0\n"
     ]
    }
   ],
   "source": [
    "from shapely.geometry import Polygon as PolygonShapely\n",
    "# CENTER OF poly has coordinates of 0,0 THIS IS IMPORTANT to be able to use 'aeqd': Azimuthal Equidistant\n",
    "poly = PolygonShapely([(-1, -1), (-1, 1), (1, 1), (1, -1), (-1, -1)]) \n",
    "print('Poly area: ',poly.area)\n",
    "poly = affinity.scale(poly, xfact=10, yfact=10, origin='center' ) # increasing the size by 10 times\n",
    "print('Poly area: ',poly.area)"
   ]
  },
  {
   "cell_type": "code",
   "execution_count": 38,
   "id": "d975680f",
   "metadata": {},
   "outputs": [
    {
     "data": {
      "image/png": "[encoded data removed]",
      "text/plain": [
       "<Figure size 432x288 with 1 Axes>"
      ]
     },
     "metadata": {
      "needs_background": "light"
     },
     "output_type": "display_data"
    }
   ],
   "source": [
    "from matplotlib.patches import Circle\n",
    "\n",
    "plt_poly = Polygon(list(zip(*poly.exterior.coords.xy)), facecolor = 'brown')\n",
    "point = Circle((x_coordinates, y_coordinates), radius = 2,)\n",
    "\n",
    "fig,ax = plt.subplots()\n",
    "\n",
    "ax.add_patch(plt_poly)\n",
    "ax.add_patch(point)\n",
    "\n",
    "plt.ylim(-90,90)\n",
    "plt.xlim(-180,180)\n",
    "\n",
    "plt.show()"
   ]
  },
  {
   "cell_type": "code",
   "execution_count": 39,
   "id": "d4e09a48",
   "metadata": {},
   "outputs": [
    {
     "data": {
      "text/plain": [
       "[(16.56161945444163, 50.634534062265715),\n",
       " (16.742344132188304, 50.63444616991458),\n",
       " (16.742344132188304, 50.82201011056302),\n",
       " (16.56161945444163, 50.82192221821188),\n",
       " (16.56161945444163, 50.634534062265715)]"
      ]
     },
     "execution_count": 39,
     "metadata": {},
     "output_type": "execute_result"
    }
   ],
   "source": [
    "import pyproj\n",
    "from shapely.ops import transform\n",
    "from shapely.geometry import Polygon as PolygonShapely\n",
    "\n",
    "\n",
    "def project(lat,lon):\n",
    "    wgs84 = pyproj.CRS(\"WGS84\")\n",
    "    # aeqd: Azimuthal Equidistant\n",
    "    aeqd = pyproj.CRS(proj=\"aeqd\", lat_0=lat, lon_0=lon, units=\"km\")\n",
    "    \n",
    "    return pyproj.Transformer.from_proj( aeqd, wgs84 )\n",
    "\n",
    "box_wgs84 = transform( project( x_coordinates, y_coordinates ).transform, poly )\n",
    "\n",
    "list(zip(*box_wgs84.exterior.coords.xy))"
   ]
  },
  {
   "cell_type": "code",
   "execution_count": 40,
   "id": "afc01214",
   "metadata": {},
   "outputs": [
    {
     "data": {
      "image/png": "[encoded data removed]",
      "text/plain": [
       "<Figure size 432x288 with 1 Axes>"
      ]
     },
     "metadata": {
      "needs_background": "light"
     },
     "output_type": "display_data"
    }
   ],
   "source": [
    "from matplotlib.patches import Circle\n",
    "\n",
    "plt_poly = Polygon(list(zip(*box_wgs84.exterior.coords.xy)), facecolor = 'brown')\n",
    "point = Circle((x_coordinates, y_coordinates), radius = 0.002)\n",
    "\n",
    "fig,ax = plt.subplots()\n",
    "\n",
    "ax.add_patch(plt_poly)\n",
    "ax.add_patch(point)\n",
    "\n",
    "minx, miny, maxx, maxy = box_wgs84.bounds\n",
    "\n",
    "minx, miny, maxx, maxy = minx - 0.05, miny- 0.05, maxx+ 0.05, maxy+ 0.05\n",
    "\n",
    "\n",
    "ax.set_xlim(minx, maxx)\n",
    "ax.set_ylim(miny, maxy)\n",
    "\n",
    "plt.show()"
   ]
  },
  {
   "cell_type": "markdown",
   "id": "ebaaa1a3",
   "metadata": {},
   "source": [
    "**Save geometry as geojson**\n"
   ]
  },
  {
   "cell_type": "code",
   "execution_count": 41,
   "id": "0cb583f0",
   "metadata": {},
   "outputs": [],
   "source": [
    "# create geodataframe from the shapely POlygon\n",
    "# save output as geojson"
   ]
  },
  {
   "cell_type": "code",
   "execution_count": 42,
   "id": "e988da45",
   "metadata": {},
   "outputs": [
    {
     "name": "stderr",
     "output_type": "stream",
     "text": [
      "C:\\Users\\Ukasz\\Anaconda3\\envs\\geopandas\\lib\\site-packages\\pyproj\\crs\\crs.py:53: FutureWarning: '+init=<authority>:<code>' syntax is deprecated. '<authority>:<code>' is the preferred initialization method. When making the change, be mindful of axis order changes: https://pyproj4.github.io/pyproj/stable/gotchas.html#axis-order-changes-in-proj-6\n",
      "  return _prepare_from_string(\" \".join(pjargs))\n"
     ]
    }
   ],
   "source": [
    "import geopandas as gpd\n",
    "\n",
    "\n",
    "crs = {'init': 'epsg:4326'}\n",
    "box_wgs84_pandas = gpd.GeoDataFrame(index=[0], crs=crs, geometry=[box_wgs84])\n",
    "\n",
    "point = gpd.GeoDataFrame(index=[0], crs=crs, geometry=[Point(x_coordinates,y_coordinates)])\n",
    "\n",
    "box_wgs84_pandas.to_file(filename='box_wgs84.geojson', driver='GeoJSON')\n",
    "point.to_file(filename='point.geojson', driver='GeoJSON')"
   ]
  },
  {
   "cell_type": "markdown",
   "id": "febeb939",
   "metadata": {},
   "source": [
    "# Create a circle around lat and long coordinates with a 66 km radius"
   ]
  },
  {
   "cell_type": "markdown",
   "id": "f421d066",
   "metadata": {},
   "source": [
    "- create point\n",
    "- create buffer \n",
    "- transfrom cartesian coordinates to geographical with the Azimuthal Equidistant projection\n",
    "- saving output as geojson"
   ]
  },
  {
   "cell_type": "code",
   "execution_count": 43,
   "id": "ba3e5d2f",
   "metadata": {},
   "outputs": [],
   "source": [
    "from shapely.geometry import Point\n",
    "from shapely.geometry import Polygon as PolygonShapely\n",
    "from matplotlib.patches import Polygon as PolygonPlt\n",
    "from matplotlib.patches import Circle as CirclePlt\n"
   ]
  },
  {
   "cell_type": "code",
   "execution_count": 44,
   "id": "dbd3adcc",
   "metadata": {},
   "outputs": [],
   "source": [
    "# creating a pouint with coordinates 0,0\n",
    "point = Point(0,0)"
   ]
  },
  {
   "cell_type": "code",
   "execution_count": 45,
   "id": "f1f398d0",
   "metadata": {},
   "outputs": [
    {
     "data": {
      "image/png": "[encoded data removed]",
      "text/plain": [
       "<Figure size 432x288 with 1 Axes>"
      ]
     },
     "metadata": {
      "needs_background": "light"
     },
     "output_type": "display_data"
    }
   ],
   "source": [
    "# let's see it on the plot\n",
    "point_plt = Circle((point.x, point.y), radius = 3)\n",
    "\n",
    "fig,ax = plt.subplots()\n",
    "ax.add_patch(point_plt)\n",
    "\n",
    "ax.set_xlim(-100, 100)\n",
    "ax.set_ylim(-100, 100)\n",
    "ax.yaxis.grid(color='gray', \n",
    "              linestyle='dashed')\n",
    "ax.xaxis.grid(color='gray', \n",
    "              linestyle='dashed')\n",
    "plt.gca().set_aspect(\"equal\")\n",
    "\n",
    "plt.savefig('point_cartesian.png', dpi=200, bbox_inches='tight')\n",
    "plt.show()"
   ]
  },
  {
   "cell_type": "code",
   "execution_count": 46,
   "id": "732e490e",
   "metadata": {},
   "outputs": [],
   "source": [
    "# creating a buffer around a point. \n",
    "# We assume that one unit corresponds to one km\n",
    "buffer = Point(0,0).buffer(66)"
   ]
  },
  {
   "cell_type": "code",
   "execution_count": 47,
   "id": "059a4a33",
   "metadata": {},
   "outputs": [
    {
     "name": "stdout",
     "output_type": "stream",
     "text": [
      "<class 'shapely.geometry.polygon.Polygon'>\n"
     ]
    },
    {
     "data": {
      "image/svg+xml": [
       "<svg xmlns=\"http://www.w3.org/2000/svg\" xmlns:xlink=\"http://www.w3.org/1999/xlink\" width=\"142.56\" height=\"142.56\" viewBox=\"-71.28 -71.28 142.56 142.56\" preserveAspectRatio=\"xMinYMin meet\"><g transform=\"matrix(1,0,0,-1,0,0.0)\"><path fill-rule=\"evenodd\" fill=\"#66cc99\" stroke=\"#555555\" stroke-width=\"2.0\" opacity=\"0.6\" d=\"M 66.0,0.0 L 65.682191960365,-6.469131261750993 L 64.73182850661321,-12.875961253064453 L 63.15806215832579,-19.1587886987945 L 60.97604914574494,-25.2571065360959 L 58.20680344699145,-31.112184630515817 L 54.876994411968006,-36.66763537929371 L 51.01868992194067,-41.86995675480057 L 46.66904755831218,-46.669047558312094 L 41.86995675480065,-51.0186899219406 L 36.6676353792938,-54.87699441196795 L 31.112184630515905,-58.206803446991394 L 25.257106536095996,-60.976049145744895 L 19.1587886987946,-63.15806215832576 L 12.875961253064556,-64.7318285066132 L 6.469131261751098,-65.68219196036499 L 1.0662594191255072e-13,-66.0 L -6.469131261750887,-65.682191960365 L -12.875961253064347,-64.73182850661323 L -19.158788698794393,-63.158062158325826 L -25.257106536095797,-60.97604914574497 L -31.112184630515717,-58.2068034469915 L -36.667635379293635,-54.876994411968056 L -41.8699567548005,-51.01868992194072 L -46.66904755831205,-46.66904755831223 L -51.01868992194057,-41.86995675480069 L -54.87699441196793,-36.66763537929384 L -58.20680344699138,-31.112184630515937 L -60.97604914574489,-25.257106536096014 L -63.15806215832576,-19.158788698794602 L -64.7318285066132,-12.875961253064546 L -65.68219196036499,-6.469131261751073 L -66.0,-6.67024445745808e-14 L -65.682191960365,6.46913126175094 L -64.73182850661323,12.875961253064414 L -63.1580621583258,19.158788698794474 L -60.97604914574494,25.25710653609589 L -58.20680344699145,31.11218463051582 L -54.876994411968,36.66763537929373 L -51.01868992194065,41.86995675480059 L -46.669047558312144,46.66904755831213 L -41.86995675480063,51.01868992194062 L -36.66763537929379,54.87699441196796 L -31.112184630515912,58.206803446991394 L -25.257106536096018,60.97604914574489 L -19.15878869879463,63.158062158325755 L -12.875961253064608,64.73182850661318 L -6.469131261751165,65.68219196036497 L -1.879833304121836e-13,66.0 L 6.46913126175079,65.68219196036502 L 12.875961253064236,64.73182850661325 L 19.15878869879427,63.158062158325855 L 25.25710653609567,60.97604914574504 L 31.112184630515582,58.20680344699157 L 36.66763537929348,54.87699441196816 L 41.86995675480034,51.018689921940855 L 46.669047558311874,46.6690475583124 L 51.01868992194039,41.8699567548009 L 54.87699441196776,36.66763537929409 L 58.20680344699123,31.112184630516225 L 60.976049145744746,25.257106536096348 L 63.15806215832564,19.15878869879497 L 64.73182850661311,12.875961253064956 L 65.68219196036495,6.469131261751519 L 66.0,5.437433190506194e-13 L 66.0,0.0 z\" /></g></svg>"
      ],
      "text/plain": [
       "<shapely.geometry.polygon.Polygon at 0x24654893548>"
      ]
     },
     "execution_count": 47,
     "metadata": {},
     "output_type": "execute_result"
    }
   ],
   "source": [
    "# as we can see the variable buffer is a polygon not a circle\n",
    "print ( type(buffer) )\n",
    "buffer"
   ]
  },
  {
   "cell_type": "code",
   "execution_count": 48,
   "id": "f35ae621",
   "metadata": {},
   "outputs": [
    {
     "data": {
      "image/png": "[encoded data removed]",
      "text/plain": [
       "<Figure size 432x288 with 1 Axes>"
      ]
     },
     "metadata": {
      "needs_background": "light"
     },
     "output_type": "display_data"
    }
   ],
   "source": [
    "# let's display that on the plot\n",
    "point_plt = Circle((point.x, point.y), radius = 3)\n",
    "buffer_plt = Polygon(list(zip(*buffer.exterior.coords.xy)), facecolor = 'pink')\n",
    "\n",
    "fig,ax = plt.subplots()\n",
    "ax.add_patch(buffer_plt)\n",
    "ax.add_patch(point_plt)\n",
    "\n",
    "ax.set_xlim(-100, 100)\n",
    "ax.set_ylim(-100, 100)\n",
    "ax.yaxis.grid(color='gray', \n",
    "              linestyle='dashed')\n",
    "ax.xaxis.grid(color='gray', \n",
    "              linestyle='dashed')\n",
    "plt.gca().set_aspect(\"equal\")\n",
    "plt.savefig('buffer_point_radius_66.png', dpi=200, bbox_inches='tight')\n",
    "plt.show()"
   ]
  },
  {
   "cell_type": "code",
   "execution_count": 49,
   "id": "e4712318",
   "metadata": {},
   "outputs": [],
   "source": [
    "# converting buffer to geographical coordinates with the given lat and long\n",
    "# we take lat and long of city called Dzierzoniow in poland\n",
    "# wiki link: https://en.wikipedia.org/wiki/Dzier%C5%BConi%C3%B3w\n",
    "\n",
    "x_coordinates = 16.652003368254142\n",
    "y_coordinates = 50.72822814023881"
   ]
  },
  {
   "cell_type": "code",
   "execution_count": 50,
   "id": "f230e1be",
   "metadata": {},
   "outputs": [],
   "source": [
    "import pyproj\n",
    "from shapely.ops import transform\n",
    "\n",
    "\n",
    "def project(lat,lon):\n",
    "    wgs84 = pyproj.CRS(\"WGS84\")\n",
    "    # aeqd: Azimuthal Equidistant\n",
    "    aeqd = pyproj.CRS(proj=\"aeqd\", lat_0=lat, lon_0=lon, units=\"km\")\n",
    "    return pyproj.Transformer.from_proj( aeqd, wgs84 )\n",
    "\n",
    "buffer_wgs84 = transform( \n",
    "    project( x_coordinates, y_coordinates).transform, buffer )\n"
   ]
  },
  {
   "cell_type": "code",
   "execution_count": 51,
   "id": "031d601c",
   "metadata": {},
   "outputs": [
    {
     "data": {
      "image/png": "[encoded data removed]",
      "text/plain": [
       "<Figure size 432x288 with 1 Axes>"
      ]
     },
     "metadata": {
      "needs_background": "light"
     },
     "output_type": "display_data"
    }
   ],
   "source": [
    "# let's display that on the plot\n",
    "point_plt = Circle((x_coordinates, y_coordinates), radius = 0.03)\n",
    "buffer_plt = Polygon(list(zip(*buffer_wgs84.exterior.coords.xy)), facecolor = 'pink')\n",
    "\n",
    "fig,ax = plt.subplots()\n",
    "ax.add_patch(buffer_plt)\n",
    "ax.add_patch(point_plt)\n",
    "\n",
    "padding = 1\n",
    "minx, miny, maxx, maxy = box_wgs84.bounds\n",
    "minx, miny, maxx, maxy = minx - padding, miny- padding, maxx + padding, maxy + padding\n",
    "\n",
    "ax.set_xlim(minx, maxx)\n",
    "ax.set_ylim(miny, maxy)\n",
    "ax.yaxis.grid(color='gray', \n",
    "              linestyle='dashed')\n",
    "ax.xaxis.grid(color='gray', \n",
    "              linestyle='dashed')\n",
    "plt.gca().set_aspect(\"equal\")\n",
    "plt.savefig('buffer_transformed_to_geographical_coordinates.png', dpi=200, bbox_inches='tight')\n",
    "plt.show()"
   ]
  },
  {
   "cell_type": "markdown",
   "id": "63722fe2",
   "metadata": {},
   "source": [
    "#### Saving output to GEOJSON"
   ]
  },
  {
   "cell_type": "code",
   "execution_count": 52,
   "id": "2da1afb4",
   "metadata": {},
   "outputs": [
    {
     "name": "stderr",
     "output_type": "stream",
     "text": [
      "C:\\Users\\Ukasz\\Anaconda3\\envs\\geopandas\\lib\\site-packages\\pyproj\\crs\\crs.py:53: FutureWarning: '+init=<authority>:<code>' syntax is deprecated. '<authority>:<code>' is the preferred initialization method. When making the change, be mindful of axis order changes: https://pyproj4.github.io/pyproj/stable/gotchas.html#axis-order-changes-in-proj-6\n",
      "  return _prepare_from_string(\" \".join(pjargs))\n"
     ]
    }
   ],
   "source": [
    "import geopandas as gpd\n",
    "\n",
    "box_wgs84_pandas = gpd.GeoDataFrame(index=[0], crs=crs, geometry=[buffer_wgs84])\n",
    "point = gpd.GeoDataFrame(index=[0], geometry=[Point(x_coordinates,y_coordinates)])\n",
    "\n",
    "box_wgs84_pandas.to_file(filename='box_wgs84.geojson', driver='GeoJSON')\n",
    "point.to_file(filename='point.geojson', driver='GeoJSON')"
   ]
  },
  {
   "cell_type": "code",
   "execution_count": 53,
   "id": "2a0a9d22",
   "metadata": {},
   "outputs": [
    {
     "name": "stdout",
     "output_type": "stream",
     "text": [
      "Area in sq km:  13662.80522481812\n"
     ]
    }
   ],
   "source": [
    "print(\"Area in sq km: \" , buffer.area)"
   ]
  },
  {
   "cell_type": "markdown",
   "id": "7b3e4546",
   "metadata": {},
   "source": [
    "**FURTHER READING:**\n",
    "- https://www.earthdatascience.org/courses/use-data-open-source-python/intro-vector-data-python/spatial-data-vector-shapefiles/intro-to-coordinate-reference-systems-python/\n",
    "- https://en.wikipedia.org/wiki/Azimuthal_equidistant_projection\n",
    "- https://www.merriam-webster.com/dictionary/azimuthal%20equidistant%20projection\n"
   ]
  },
  {
   "cell_type": "code",
   "execution_count": 63,
   "id": "85cf524a",
   "metadata": {},
   "outputs": [
    {
     "data": {
      "image/png": "[encoded data removed]",
      "text/plain": [
       "<Figure size 720x720 with 1 Axes>"
      ]
     },
     "metadata": {
      "needs_background": "light"
     },
     "output_type": "display_data"
    }
   ],
   "source": [
    "import geopandas\n",
    "\n",
    "world = geopandas.read_file('naturalearth_lowres')\n",
    "\n",
    "ax = world.plot(\n",
    "    color='#11a78d', edgecolor='black', figsize=(10,10))\n",
    "\n",
    "box_wgs84_pandas.plot(ax=ax, color='#ff99cc')\n",
    "\n",
    "ax.yaxis.grid(color='gray', linestyle='dashed')\n",
    "ax.xaxis.grid(color='gray', linestyle='dashed')\n",
    "plt.gca().set_aspect(\"equal\")\n",
    "ax.set_xlim(0, 50)\n",
    "ax.set_ylim(35, 70)\n",
    "plt.savefig('buffer_on_map.png', dpi=200, bbox_inches='tight')\n",
    "plt.show()"
   ]
  },
  {
   "cell_type": "markdown",
   "id": "bb97a18e",
   "metadata": {},
   "source": [
    "#### CRS comparison"
   ]
  },
  {
   "cell_type": "code",
   "execution_count": 55,
   "id": "33b01b94",
   "metadata": {},
   "outputs": [
    {
     "data": {
      "text/plain": [
       "<Geographic 2D CRS: EPSG:4326>\n",
       "Name: WGS 84\n",
       "Axis Info [ellipsoidal]:\n",
       "- Lat[north]: Geodetic latitude (degree)\n",
       "- Lon[east]: Geodetic longitude (degree)\n",
       "Area of Use:\n",
       "- name: World\n",
       "- bounds: (-180.0, -90.0, 180.0, 90.0)\n",
       "Datum: World Geodetic System 1984\n",
       "- Ellipsoid: WGS 84\n",
       "- Prime Meridian: Greenwich"
      ]
     },
     "execution_count": 55,
     "metadata": {},
     "output_type": "execute_result"
    }
   ],
   "source": [
    "world.crs"
   ]
  },
  {
   "cell_type": "code",
   "execution_count": 56,
   "id": "6367623d",
   "metadata": {},
   "outputs": [
    {
     "data": {
      "text/plain": [
       "<Geographic 2D CRS: +init=epsg:4326 +type=crs>\n",
       "Name: WGS 84\n",
       "Axis Info [ellipsoidal]:\n",
       "- lon[east]: Longitude (degree)\n",
       "- lat[north]: Latitude (degree)\n",
       "Area of Use:\n",
       "- name: World\n",
       "- bounds: (-180.0, -90.0, 180.0, 90.0)\n",
       "Datum: World Geodetic System 1984\n",
       "- Ellipsoid: WGS 84\n",
       "- Prime Meridian: Greenwich"
      ]
     },
     "execution_count": 56,
     "metadata": {},
     "output_type": "execute_result"
    }
   ],
   "source": [
    "box_wgs84_pandas.crs"
   ]
  },
  {
   "cell_type": "code",
   "execution_count": null,
   "id": "c511f882",
   "metadata": {},
   "outputs": [],
   "source": []
  }
 ],
 "metadata": {
  "kernelspec": {
   "display_name": "Python 3 (ipykernel)",
   "language": "python",
   "name": "python3"
  },
  "language_info": {
   "codemirror_mode": {
    "name": "ipython",
    "version": 3
   },
   "file_extension": ".py",
   "mimetype": "text/x-python",
   "name": "python",
   "nbconvert_exporter": "python",
   "pygments_lexer": "ipython3",
   "version": "3.7.11"
  }
 },
 "nbformat": 4,
 "nbformat_minor": 5
}
